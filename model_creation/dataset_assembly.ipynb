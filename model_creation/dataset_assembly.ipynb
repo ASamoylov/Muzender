{
 "cells": [
  {
   "cell_type": "code",
   "execution_count": null,
   "metadata": {},
   "outputs": [],
   "source": [
    "from tqdm import tqdm\n",
    "import pandas as pd\n",
    "import pickle\n",
    "import os\n",
    "from scipy import sparse\n",
    "%matplotlib notebook"
   ]
  },
  {
   "cell_type": "code",
   "execution_count": null,
   "metadata": {},
   "outputs": [],
   "source": [
    "song_info = pd.read_csv('data/unique_tracks.txt', sep='<SEP>', header=None, engine='python')\n",
    "song_info.columns = ['artist_id', 'song_id', 'artist_name', 'song_name']"
   ]
  },
  {
   "cell_type": "markdown",
   "metadata": {},
   "source": [
    "### Iterative method to get dataset (and not hit memory contstraints)"
   ]
  },
  {
   "cell_type": "code",
   "execution_count": null,
   "metadata": {},
   "outputs": [],
   "source": [
    "def get_song_artist(song_id):\n",
    "    return song_id_x_artist_name[song_id]\n",
    "\n",
    "folder_out = 'data/tmp/'\n",
    "dataset = pd.DataFrame()\n",
    "for num, user_track in enumerate(pd.read_csv('data/train_triplets.txt', \n",
    "                                             chunksize=500000,\n",
    "                                             iterator=True,\n",
    "                                             sep='\\t', \n",
    "                                             header=None, \n",
    "                                             usecols=[0,1], \n",
    "                                            )):\n",
    "    print(num)\n",
    "    user_track.columns = ['user_id', 'song_id']\n",
    "    song_id_x_artist_name = dict(zip(song_info['song_id'], song_info['artist_name']))\n",
    "    user_track['artist_name'] = user_track['song_id'].apply(get_song_artist)\n",
    "\n",
    "    dataset = user_track.pivot_table(index='user_id', \n",
    "                                     columns='artist_name', \n",
    "                                     values='song_id', \n",
    "                                     aggfunc='count',\n",
    "                                    )\n",
    "    file_name = folder_out + str(num) + '.pkl'\n",
    "    with open(file_name, 'wb') as f:\n",
    "        pickle.dump(pd.SparseDataFrame(dataset), f)\n",
    "\n",
    "    del dataset\n",
    "    del user_track\n",
    "    del song_id_x_artist_name\n"
   ]
  },
  {
   "cell_type": "code",
   "execution_count": null,
   "metadata": {},
   "outputs": [],
   "source": [
    "dataset = pd.DataFrame()\n",
    "for file in tqdm(os.listdir(folder_in)):\n",
    "    if file.endswith(\".pkl\"):\n",
    "        file_path = os.path.join(folder_out, file)\n",
    "        with open(file_path, 'rb') as f:\n",
    "            dataset = dataset.append(pickle.load(f))\n",
    "\n",
    "file_path = '../recommedation_service/data/final.pkl'\n",
    "with open(file_path, 'wb') as f:\n",
    "    pickle.dump(dataset, f)"
   ]
  },
  {
   "cell_type": "code",
   "execution_count": 11,
   "metadata": {},
   "outputs": [
    {
     "name": "stdout",
     "output_type": "stream",
     "text": [
      "<class 'pandas.core.sparse.frame.SparseDataFrame'>\n",
      "Index: 1019412 entries, 0000f88f8d76a238c251450913b0d070e4a77d19 to fffca8193876a33f6c4d8a18b29b69ab247aa841\n",
      "Columns: 42053 entries, !!! to üNN\n",
      "dtypes: float64(42053)\n",
      "memory usage: 235.6+ MB\n"
     ]
    }
   ],
   "source": [
    "dataset.info()"
   ]
  },
  {
   "cell_type": "markdown",
   "metadata": {},
   "source": [
    "### Check final dataset sparsity "
   ]
  },
  {
   "cell_type": "code",
   "execution_count": null,
   "metadata": {},
   "outputs": [],
   "source": [
    "with open('data/tmp/final.pkl', 'rb') as f:\n",
    "    dataset = pickle.load(f)"
   ]
  },
  {
   "cell_type": "code",
   "execution_count": 4,
   "metadata": {},
   "outputs": [
    {
     "data": {
      "text/plain": [
       "99.93033133239032"
      ]
     },
     "execution_count": 4,
     "metadata": {},
     "output_type": "execute_result"
    }
   ],
   "source": [
    "dataset_s = sparse.csr_matrix(dataset.to_coo())\n",
    "matrix_size = dataset_s.shape[0]*dataset_s.shape[1] # Number of possible interactions in the matrix\n",
    "\n",
    "num_ratings = len(dataset_s.nonzero()[0]) # Number of items interacted with\n",
    "sparsity = 100*(1 - (num_ratings/matrix_size))\n",
    "sparsity"
   ]
  }
 ],
 "metadata": {
  "kernelspec": {
   "display_name": "Python 3",
   "language": "python",
   "name": "python3"
  },
  "language_info": {
   "codemirror_mode": {
    "name": "ipython",
    "version": 3
   },
   "file_extension": ".py",
   "mimetype": "text/x-python",
   "name": "python",
   "nbconvert_exporter": "python",
   "pygments_lexer": "ipython3",
   "version": "3.6.3"
  }
 },
 "nbformat": 4,
 "nbformat_minor": 2
}
