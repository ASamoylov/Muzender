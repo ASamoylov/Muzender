{
 "cells": [
  {
   "cell_type": "code",
   "execution_count": 1,
   "metadata": {},
   "outputs": [],
   "source": [
    "import pickle\n",
    "import numpy as np\n",
    "import pandas as pd\n",
    "from scipy import sparse\n",
    "import gensim\n",
    "import tqdm"
   ]
  },
  {
   "cell_type": "markdown",
   "metadata": {},
   "source": [
    "### reformat data"
   ]
  },
  {
   "cell_type": "code",
   "execution_count": null,
   "metadata": {},
   "outputs": [],
   "source": [
    "%%time\n",
    "class DatasetToW2V(object):\n",
    "    def __init__(self, file_path):\n",
    "        with open(file_path, 'rb') as f:\n",
    "            dataset = pickle.load(f)\n",
    "            self.dataset = sparse.csr_matrix(dataset.to_coo())\n",
    "            self.names = dataset.columns\n",
    "\n",
    "    def __iter__(self):\n",
    "        for user_items in tqdm.tqdm(self.dataset):\n",
    "            indxs = user_items.nonzero()[1]\n",
    "            yield list(self.names[indxs])\n",
    "\n",
    "\n",
    "music_collections = DatasetToW2V('../data/final.pkl')"
   ]
  },
  {
   "cell_type": "markdown",
   "metadata": {},
   "source": [
    "### fit model"
   ]
  },
  {
   "cell_type": "code",
   "execution_count": null,
   "metadata": {},
   "outputs": [],
   "source": [
    "%%time\n",
    "estimator = gensim.models.Word2Vec(music_collections,\n",
    "                                   min_count=30,  # number of users who read book\n",
    "                                   workers=4,\n",
    "                                  )"
   ]
  },
  {
   "cell_type": "code",
   "execution_count": null,
   "metadata": {},
   "outputs": [],
   "source": [
    "with open('../data/model_w2v_names.pkl', 'wb') as f:\n",
    "    pickle.dump(estimator, f)"
   ]
  },
  {
   "cell_type": "markdown",
   "metadata": {},
   "source": [
    "### test"
   ]
  },
  {
   "cell_type": "code",
   "execution_count": 2,
   "metadata": {},
   "outputs": [],
   "source": [
    "estimator = gensim.models.Word2Vec.load('../data/model.w2v')"
   ]
  },
  {
   "cell_type": "code",
   "execution_count": 25,
   "metadata": {},
   "outputs": [],
   "source": [
    "with open('../data/model_w2v.pkl', 'wb') as f:\n",
    "    pickle.dump(estimator, f)"
   ]
  },
  {
   "cell_type": "code",
   "execution_count": 26,
   "metadata": {},
   "outputs": [
    {
     "name": "stdout",
     "output_type": "stream",
     "text": [
      "total 7784968\r\n",
      "-rw-r--r--   1 alex  staff    32M Oct 20 18:39 model_w2v.pkl\r\n",
      "-rw-r--r--   1 alex  staff    22M Oct 20 13:33 model_w2v_names.pkl\r\n",
      "-rw-r--r--@  1 alex  staff    31M Oct 20 13:22 model.w2v\r\n",
      "drwxr-xr-x@  5 alex  staff   160B Jan 30  2018 \u001b[1m\u001b[36mlastfm-dataset-360K\u001b[m\u001b[m/\r\n",
      "-rw-r--r--   1 alex  staff   260B Jan 26  2018 dataset_sources.txt\r\n",
      "-rw-r--r--   1 alex  staff   243M Jan 21  2018 model.pkl\r\n",
      "drwxr-xr-x  99 alex  staff   3.1K Jan 21  2018 \u001b[1m\u001b[36mtmp\u001b[m\u001b[m/\r\n",
      "-rw-r--r--   1 alex  staff   516M Jan 21  2018 final.pkl\r\n",
      "-rw-r--r--@  1 alex  staff   2.8G Dec 19  2011 train_triplets.txt\r\n",
      "-rw-r--r--@  1 alex  staff    80M Jan 25  2011 unique_tracks.txt\r\n"
     ]
    }
   ],
   "source": [
    "ls -lht ../data/"
   ]
  },
  {
   "cell_type": "code",
   "execution_count": 16,
   "metadata": {},
   "outputs": [],
   "source": [
    "r = estimator.predict_output_word(['Flipsyde', 'Disturbed', 'Eminem'])"
   ]
  },
  {
   "cell_type": "code",
   "execution_count": 23,
   "metadata": {},
   "outputs": [
    {
     "data": {
      "text/plain": [
       "['Eminem / Dina Rae',\n",
       " 'Eminem / Hailie Jade',\n",
       " 'Eminem / Dr. Dre / 50 Cent',\n",
       " 'Eminem / Nate Dogg',\n",
       " 'Eminem / Bizarre',\n",
       " 'Eminem / DMX / Obie Trice',\n",
       " 'Eminem / Dr. Dre',\n",
       " 'Dr. Dre / Eminem',\n",
       " 'Eminem / Royce Da 5-9',\n",
       " 'Evanescence']"
      ]
     },
     "execution_count": 23,
     "metadata": {},
     "output_type": "execute_result"
    }
   ],
   "source": [
    "[a for a, _ in r]"
   ]
  },
  {
   "cell_type": "code",
   "execution_count": 21,
   "metadata": {},
   "outputs": [
    {
     "data": {
      "text/plain": [
       "array(['Eminem / Dina Rae', 'Eminem / Hailie Jade'], dtype='<U26')"
      ]
     },
     "execution_count": 21,
     "metadata": {},
     "output_type": "execute_result"
    }
   ],
   "source": [
    "np.array(r)[:2, 0]"
   ]
  },
  {
   "cell_type": "code",
   "execution_count": 9,
   "metadata": {},
   "outputs": [
    {
     "ename": "TypeError",
     "evalue": "'Word2VecVocab' object is not iterable",
     "output_type": "error",
     "traceback": [
      "\u001b[0;31m---------------------------------------------------------------------------\u001b[0m",
      "\u001b[0;31mTypeError\u001b[0m                                 Traceback (most recent call last)",
      "\u001b[0;32m<ipython-input-9-01010f5ff909>\u001b[0m in \u001b[0;36m<module>\u001b[0;34m()\u001b[0m\n\u001b[0;32m----> 1\u001b[0;31m \u001b[0;32mfor\u001b[0m \u001b[0mi\u001b[0m \u001b[0;32min\u001b[0m \u001b[0mestimator\u001b[0m\u001b[0;34m.\u001b[0m\u001b[0mvocabulary\u001b[0m\u001b[0;34m:\u001b[0m\u001b[0;34m\u001b[0m\u001b[0m\n\u001b[0m\u001b[1;32m      2\u001b[0m     \u001b[0mprint\u001b[0m\u001b[0;34m(\u001b[0m\u001b[0mi\u001b[0m\u001b[0;34m)\u001b[0m\u001b[0;34m\u001b[0m\u001b[0m\n",
      "\u001b[0;31mTypeError\u001b[0m: 'Word2VecVocab' object is not iterable"
     ]
    }
   ],
   "source": [
    "for i in estimator.vocabulary:\n",
    "    print(i)"
   ]
  }
 ],
 "metadata": {
  "kernelspec": {
   "display_name": "Python 3",
   "language": "python",
   "name": "python3"
  },
  "language_info": {
   "codemirror_mode": {
    "name": "ipython",
    "version": 3
   },
   "file_extension": ".py",
   "mimetype": "text/x-python",
   "name": "python",
   "nbconvert_exporter": "python",
   "pygments_lexer": "ipython3",
   "version": "3.7.0"
  }
 },
 "nbformat": 4,
 "nbformat_minor": 2
}
