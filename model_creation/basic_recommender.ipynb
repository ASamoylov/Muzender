{
 "cells": [
  {
   "cell_type": "code",
   "execution_count": 1,
   "metadata": {},
   "outputs": [],
   "source": [
    "import pickle\n",
    "import numpy as np\n",
    "import pandas as pd\n",
    "from scipy import sparse\n",
    "import implicit"
   ]
  },
  {
   "cell_type": "code",
   "execution_count": 2,
   "metadata": {},
   "outputs": [],
   "source": [
    "song_info = pd.read_csv('../data/unique_tracks.txt', sep='<SEP>', header=None, engine='python')\n",
    "song_info.columns = ['artist_id', 'song_id', 'artist_name', 'song_name']"
   ]
  },
  {
   "cell_type": "code",
   "execution_count": 3,
   "metadata": {},
   "outputs": [
    {
     "name": "stdout",
     "output_type": "stream",
     "text": [
      "CPU times: user 25.9 s, sys: 2.7 s, total: 28.6 s\n",
      "Wall time: 29.9 s\n"
     ]
    }
   ],
   "source": [
    "%%time\n",
    "with open('../recommedation_service/data/final.pkl', 'rb') as f:\n",
    "    dataset = pickle.load(f)\n",
    "dataset_s = sparse.csr_matrix(dataset.to_coo())"
   ]
  },
  {
   "cell_type": "code",
   "execution_count": 4,
   "metadata": {},
   "outputs": [
    {
     "name": "stdout",
     "output_type": "stream",
     "text": [
      "CPU times: user 10min 41s, sys: 4.15 s, total: 10min 45s\n",
      "Wall time: 3min 12s\n"
     ]
    }
   ],
   "source": [
    "%%time\n",
    "model = implicit.als.AlternatingLeastSquares(factors=30)\n",
    "model.fit(dataset_s.T)\n",
    "\n",
    "with open('../data/model.pkl', 'wb') as f:\n",
    "    pickle.dump(model, f)"
   ]
  },
  {
   "cell_type": "markdown",
   "metadata": {},
   "source": [
    "### Recommendation for existing user"
   ]
  },
  {
   "cell_type": "code",
   "execution_count": 5,
   "metadata": {
    "scrolled": true
   },
   "outputs": [
    {
     "name": "stdout",
     "output_type": "stream",
     "text": [
      "Index(['Justin Bieber', 'Black Eyed Peas', 'Taylor Swift', 'Rihanna',\n",
      "       'Miley Cyrus', 'Harmonia', 'Beyoncé', 'Katy Perry',\n",
      "       'Lady GaGa / Colby O'Donis', 'Daft Punk'],\n",
      "      dtype='object')\n",
      "CPU times: user 4 ms, sys: 1.66 ms, total: 5.66 ms\n",
      "Wall time: 3.57 ms\n"
     ]
    }
   ],
   "source": [
    "%%time\n",
    "def get_recommendation(user_id):\n",
    "    user_items = dataset_s\n",
    "    recommendations = model.recommend(user_id, \n",
    "                                      user_items,\n",
    "                                     )\n",
    "    return dataset.columns[list(np.array(recommendations)[:,0].astype('int'))]\n",
    "\n",
    "print(get_recommendation(1019410))"
   ]
  },
  {
   "cell_type": "markdown",
   "metadata": {},
   "source": [
    "### Recommendation for new user"
   ]
  },
  {
   "cell_type": "code",
   "execution_count": 6,
   "metadata": {},
   "outputs": [
    {
     "name": "stdout",
     "output_type": "stream",
     "text": [
      "Index(['Enya', 'The Avett Brothers', 'Fleet Foxes', 'Rammstein', 'Bon Iver',\n",
      "       'Iron And Wine', 'Linkin Park', 'Coldplay', 'Amos Lee', 'Enigma'],\n",
      "      dtype='object')\n",
      "CPU times: user 151 ms, sys: 121 ms, total: 272 ms\n",
      "Wall time: 271 ms\n"
     ]
    }
   ],
   "source": [
    "%%time\n",
    "def get_recommendation_new(new_user_data):\n",
    "    user_items = sparse.vstack((dataset_s, \n",
    "                                sparse.csr_matrix(new_user_data)))\n",
    "    user_id = user_items.shape[0] - 1\n",
    "\n",
    "    recommendations = model.recommend(user_id,\n",
    "                                      user_items, \n",
    "                                      recalculate_user=True,\n",
    "                                     )\n",
    "    return dataset.columns[list(np.array(recommendations)[:,0].astype('int'))]\n",
    "\n",
    "\n",
    "new_user_data = np.zeros(dataset_s.shape[1])\n",
    "new_user_data[:100] = 1\n",
    "np.random.shuffle(new_user_data)\n",
    "\n",
    "print(get_recommendation_new(new_user_data))"
   ]
  },
  {
   "cell_type": "markdown",
   "metadata": {},
   "source": [
    "### Similar items"
   ]
  },
  {
   "cell_type": "code",
   "execution_count": 7,
   "metadata": {},
   "outputs": [
    {
     "data": {
      "text/plain": [
       "Index(['Eminem / Dr. Dre / 50 Cent', 'Eminem / Dr. Dre', 'Eminem',\n",
       "       'J-Black & Masta Ace', 'Eminem / Hailie Jade', 'Trick Trick / Eminem',\n",
       "       'Dr. Dre / Eminem',\n",
       "       'Eminem / Obie Trice / Stat Quo / Bobby Creekwater / Cashis',\n",
       "       'Eminem / 50 Cent', 'Eminem / DMX / Obie Trice'],\n",
       "      dtype='object')"
      ]
     },
     "execution_count": 7,
     "metadata": {},
     "output_type": "execute_result"
    }
   ],
   "source": [
    "def get_similar_artist(item_id):\n",
    "    similar = model.similar_items(item_id, N=10)\n",
    "    return dataset.columns[list(np.array(similar)[:,0].astype('int'))]\n",
    "\n",
    "get_similar_artist(11836)"
   ]
  }
 ],
 "metadata": {
  "kernelspec": {
   "display_name": "Python 3",
   "language": "python",
   "name": "python3"
  },
  "language_info": {
   "codemirror_mode": {
    "name": "ipython",
    "version": 3
   },
   "file_extension": ".py",
   "mimetype": "text/x-python",
   "name": "python",
   "nbconvert_exporter": "python",
   "pygments_lexer": "ipython3",
   "version": "3.6.3"
  }
 },
 "nbformat": 4,
 "nbformat_minor": 2
}
